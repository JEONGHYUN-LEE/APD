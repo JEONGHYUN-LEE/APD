{
 "cells": [
  {
   "cell_type": "code",
   "execution_count": null,
   "metadata": {
    "pycharm": {
     "name": "#%%\n"
    }
   },
   "outputs": [
    {
     "name": "stdout",
     "output_type": "stream",
     "text": [
      "Files already downloaded and verified\n",
      "Files already downloaded and verified\n",
      "[ init ]\t 0.944 0.0003 0.47214999999999996 0.0\n"
     ]
    },
    {
     "data": {
      "application/vnd.jupyter.widget-view+json": {
       "model_id": "0fa12336323f4d5e9e339be2836533d3",
       "version_major": 2,
       "version_minor": 0
      },
      "text/plain": [
       "HBox(children=(IntProgress(value=0, max=80), HTML(value='')))"
      ]
     },
     "metadata": {},
     "output_type": "display_data"
    },
    {
     "name": "stderr",
     "output_type": "stream",
     "text": [
      "/usr/local/lib/python3.6/dist-packages/torch/optim/lr_scheduler.py:100: UserWarning: Detected call of `lr_scheduler.step()` before `optimizer.step()`. In PyTorch 1.1.0 and later, you should call them in the opposite order: `optimizer.step()` before `lr_scheduler.step()`.  Failure to do this will result in PyTorch skipping the first value of the learning rate schedule.See more details at https://pytorch.org/docs/stable/optim.html#how-to-adjust-learning-rate\n",
      "  \"https://pytorch.org/docs/stable/optim.html#how-to-adjust-learning-rate\", UserWarning)\n"
     ]
    },
    {
     "name": "stdout",
     "output_type": "stream",
     "text": [
      "[ 0 ]\t 0.5385 0.3005 0.4195 0.5\n",
      "[ 1 ]\t 0.6176 0.3187 0.46815 0.5\n",
      "[ 2 ]\t 0.6381 0.3217 0.4799 0.5\n",
      "[ 3 ]\t 0.6498 0.3441 0.49695 0.5\n",
      "[ 4 ]\t 0.6956 0.3582 0.5269 0.5\n",
      "[ 5 ]\t 0.6653 0.3792 0.52225 0.5\n",
      "[ 6 ]\t 0.7139 0.3775 0.5457 0.5\n",
      "[ 7 ]\t 0.7197 0.4004 0.5600499999999999 0.5\n",
      "[ 8 ]\t 0.7056 0.397 0.5513 0.5\n",
      "[ 9 ]\t 0.7398 0.4076 0.5737 0.5\n",
      "[ 10 ]\t 0.7185 0.4048 0.56165 0.5\n",
      "[ 11 ]\t 0.7226 0.4035 0.56305 0.5\n",
      "[ 12 ]\t 0.7376 0.3996 0.5686 0.5\n",
      "[ 13 ]\t 0.7295 0.4064 0.56795 0.5\n",
      "[ 14 ]\t 0.7583 0.432 0.59515 0.5\n",
      "[ 15 ]\t 0.7123 0.4149 0.5636 0.5\n",
      "[ 16 ]\t 0.7623 0.4091 0.5857 0.5\n",
      "[ 17 ]\t 0.7632 0.4237 0.59345 0.5\n",
      "[ 18 ]\t 0.7596 0.429 0.5943 0.5\n",
      "[ 19 ]\t 0.7304 0.4381 0.58425 0.5\n",
      "[ 20 ]\t 0.7602 0.4382 0.5992 0.5\n",
      "[ 21 ]\t 0.7697 0.4385 0.6041000000000001 0.5\n",
      "[ 22 ]\t 0.7577 0.4285 0.5931 0.5\n",
      "[ 23 ]\t 0.7657 0.4292 0.59745 0.5\n",
      "[ 24 ]\t 0.7672 0.4268 0.597 0.5\n",
      "[ 25 ]\t 0.7825 0.439 0.61075 0.5\n",
      "[ 26 ]\t 0.7713 0.445 0.60815 0.5\n",
      "[ 27 ]\t 0.7391 0.4369 0.588 0.5\n"
     ]
    }
   ],
   "source": [
    "from compress import *\n",
    "\n",
    "params = {\n",
    "    'general_params':{\n",
    "        'random_seed':1,\n",
    "        'network':'resnet18',\n",
    "        'dataset':'cifar10',\n",
    "        'batch_size':256,\n",
    "        'epoch':80,\n",
    "        'lr_init':0.1,\n",
    "        'lr_steps':[50, 70],\n",
    "        'lr_decay':0.1,\n",
    "        'warm': False,\n",
    "        'pretrained_path':'model_save/resnet18/teacher.pt',\n",
    "        'save_path':'model_save/resnet18',\n",
    "        'save_name':'t33.pt',\n",
    "        'device':'cuda:0',\n",
    "    },\n",
    "    'projection_params':{\n",
    "        'sparsity': 0.5,\n",
    "        'type': 'fp',\n",
    "    },\n",
    "    'adversarial_params':{\n",
    "        'rand_init':True,\n",
    "        'tool':'advertorch',\n",
    "        'eps': 8.0,\n",
    "        'num_iter':10,\n",
    "        'lr':2.0\n",
    "    },\n",
    "    'distillation_params':{\n",
    "        'teacher_path':'model_save/resnet18/teacher.pt',\n",
    "        'alpha':1.0,\n",
    "        'temperature': 10.0,\n",
    "        'adv_lesson':False,\n",
    "        'teacher_perturb':False,\n",
    "    },    \n",
    "}\n",
    "compress(params)"
   ]
  },
  {
   "cell_type": "code",
   "execution_count": null,
   "outputs": [],
   "source": [
    "\n"
   ],
   "metadata": {
    "collapsed": false,
    "pycharm": {
     "name": "#%%\n"
    }
   }
  }
 ],
 "metadata": {
  "kernelspec": {
   "display_name": "Python 3",
   "language": "python",
   "name": "python3"
  },
  "language_info": {
   "codemirror_mode": {
    "name": "ipython",
    "version": 3
   },
   "file_extension": ".py",
   "mimetype": "text/x-python",
   "name": "python",
   "nbconvert_exporter": "python",
   "pygments_lexer": "ipython3",
   "version": "3.6.8"
  }
 },
 "nbformat": 4,
 "nbformat_minor": 2
}